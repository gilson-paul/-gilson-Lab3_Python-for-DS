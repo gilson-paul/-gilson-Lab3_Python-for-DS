{
  "cells": [
    {
      "cell_type": "markdown",
      "id": "fcbd582c",
      "metadata": {
        "id": "fcbd582c"
      },
      "source": [
        "## Learning Outcomes\n",
        "- Exploratory data analysis & preparing the data for model building. \n",
        "- Machine Learning - Supervised Learning Classification\n",
        "  - Logistic Regression\n",
        "  - Naive bayes Classifier\n",
        "  - KNN Classifier\n",
        "  - Decision Tree Classifier\n",
        "  - Random Forest Classifier\n",
        "  - Ensemble methods\n",
        "- Training and making predictions using different classification models.\n",
        "- Model evaluation"
      ]
    },
    {
      "cell_type": "markdown",
      "id": "f2e961f9",
      "metadata": {
        "id": "f2e961f9"
      },
      "source": [
        "## Objective: \n",
        "- The Classification goal is to predict “heart disease” in a person with regards to different factors given. \n",
        "\n",
        "## Context:\n",
        "- Heart disease is one of the leading causes of death for people of most races in the US. At least 1 of 3 key risk factors for heart disease: high blood pressure, high cholesterol, and smoking. \n",
        "- Detecting and preventing the factors that have the greatest impact on heart disease is very important in healthcare. Machine learning methods may detect \"patterns\" from the data and can predict whether a patient is suffering from any heart disease or not..\n",
        "\n",
        "## Dataset Information\n",
        "\n",
        "#### Source: https://www.kaggle.com/datasets/kamilpytlak/personal-key-indicators-of-heart-disease?datasetId=1936563&sortBy=voteCount\n",
        "Originally, the dataset come from the CDC and is a major part of the Behavioral Risk Factor Surveillance System (BRFSS), which conducts annual telephone surveys to gather data on the health status of U.S. residents. \n",
        "\n",
        "This dataset consists of eighteen columns\n",
        "- HeartDisease: Respondents that have ever reported having coronary heart disease (CHD) or myocardial infarction (MI)\n",
        "- BMI: Body Mass Index (BMI)\n",
        "- Smoking: smoked at least 100 cigarettes in your entire life\n",
        "- AlcoholDrinking: Heavy drinkers (adult men having more than 14 drinks per week and adult women having more than 7 drinks per week\n",
        "- Stroke:Ever had a stroke?\n",
        "- PhysicalHealth: physical health, which includes physical illness and injury\n",
        "- MentalHealth: for how many days during the past 30 days was your mental health not good?\n",
        "- DiffWalking: Do you have serious difficulty walking or climbing stairs?\n",
        "- Sex: male or female?\n",
        "- AgeCategory: Fourteen-level age category\n",
        "- Race: Imputed race/ethnicity value\n",
        "- Diabetic: diabetes?\n",
        "- PhysicalActivity: Adults who reported doing physical activity or exercise during the past 30 days other than their regular job\n",
        "- GenHealth: Would you say that in general your health is good, fine or excellent?\n",
        "- SleepTime: On average, how many hours of sleep do you get in a 24-hour period?\n",
        "- Asthma: you had asthma?\n",
        "- KidneyDisease: Not including kidney stones, bladder infection or incontinence, were you ever told you had kidney disease?\n",
        "- SkinCancer: Ever had skin cancer?"
      ]
    },
    {
      "cell_type": "markdown",
      "id": "f8617014",
      "metadata": {
        "id": "f8617014"
      },
      "source": [
        "### 1. Importing Libraries"
      ]
    },
    {
      "cell_type": "code",
      "execution_count": 17,
      "id": "c7172d3b",
      "metadata": {
        "id": "c7172d3b"
      },
      "outputs": [],
      "source": [
        "import numpy as np\n",
        "import pandas as pd\n",
        "import seaborn as sns\n",
        "import matplotlib.pyplot as plt\n",
        "import sklearn\n",
        "from sklearn.model_selection import train_test_split\n",
        "from sklearn.preprocessing import StandardScaler\n",
        "from sklearn.linear_model import LogisticRegression\n",
        "from sklearn.metrics import accuracy_score,confusion_matrix\n",
        "from sklearn.preprocessing import LabelEncoder\n",
        "import warnings\n",
        "warnings.filterwarnings('ignore')\n",
        "\n",
        "from sklearn.neighbors import KNeighborsClassifier\n",
        "from sklearn.naive_bayes import GaussianNB\n",
        "from sklearn.ensemble import RandomForestClassifier\n",
        "from sklearn.ensemble import StackingClassifier\n",
        "from sklearn.ensemble import AdaBoostClassifier, GradientBoostingClassifier\n",
        "from sklearn.tree import DecisionTreeClassifier\n"
      ]
    },
    {
      "cell_type": "markdown",
      "id": "8fe1a778",
      "metadata": {
        "id": "8fe1a778"
      },
      "source": [
        "### 2. Load the dataset and display a sample of five rows of the data frame."
      ]
    },
    {
      "cell_type": "code",
      "execution_count": 18,
      "id": "70984f5f",
      "metadata": {
        "id": "70984f5f",
        "colab": {
          "base_uri": "https://localhost:8080/",
          "height": 270
        },
        "outputId": "dfdea38b-00cd-4a66-cfa1-40fe0b66f2d4"
      },
      "outputs": [
        {
          "output_type": "execute_result",
          "data": {
            "text/plain": [
              "  HeartDisease    BMI Smoking AlcoholDrinking Stroke  PhysicalHealth  \\\n",
              "0           No  16.60     Yes              No     No             3.0   \n",
              "1           No  20.34      No              No    Yes             0.0   \n",
              "2           No  26.58     Yes              No     No            20.0   \n",
              "3           No  24.21      No              No     No             0.0   \n",
              "4           No  23.71      No              No     No            28.0   \n",
              "\n",
              "   MentalHealth DiffWalking     Sex  AgeCategory   Race Diabetic  \\\n",
              "0          30.0          No  Female        55-59  White      Yes   \n",
              "1           0.0          No  Female  80 or older  White       No   \n",
              "2          30.0          No    Male        65-69  White      Yes   \n",
              "3           0.0          No  Female        75-79  White       No   \n",
              "4           0.0         Yes  Female        40-44  White       No   \n",
              "\n",
              "  PhysicalActivity  GenHealth  SleepTime Asthma KidneyDisease SkinCancer  \n",
              "0              Yes  Very good        5.0    Yes            No        Yes  \n",
              "1              Yes  Very good        7.0     No            No         No  \n",
              "2              Yes       Fair        8.0    Yes            No         No  \n",
              "3               No       Good        6.0     No            No        Yes  \n",
              "4              Yes  Very good        8.0     No            No         No  "
            ],
            "text/html": [
              "\n",
              "  <div id=\"df-0e50d882-37c3-434d-8e27-824b4f80db7f\">\n",
              "    <div class=\"colab-df-container\">\n",
              "      <div>\n",
              "<style scoped>\n",
              "    .dataframe tbody tr th:only-of-type {\n",
              "        vertical-align: middle;\n",
              "    }\n",
              "\n",
              "    .dataframe tbody tr th {\n",
              "        vertical-align: top;\n",
              "    }\n",
              "\n",
              "    .dataframe thead th {\n",
              "        text-align: right;\n",
              "    }\n",
              "</style>\n",
              "<table border=\"1\" class=\"dataframe\">\n",
              "  <thead>\n",
              "    <tr style=\"text-align: right;\">\n",
              "      <th></th>\n",
              "      <th>HeartDisease</th>\n",
              "      <th>BMI</th>\n",
              "      <th>Smoking</th>\n",
              "      <th>AlcoholDrinking</th>\n",
              "      <th>Stroke</th>\n",
              "      <th>PhysicalHealth</th>\n",
              "      <th>MentalHealth</th>\n",
              "      <th>DiffWalking</th>\n",
              "      <th>Sex</th>\n",
              "      <th>AgeCategory</th>\n",
              "      <th>Race</th>\n",
              "      <th>Diabetic</th>\n",
              "      <th>PhysicalActivity</th>\n",
              "      <th>GenHealth</th>\n",
              "      <th>SleepTime</th>\n",
              "      <th>Asthma</th>\n",
              "      <th>KidneyDisease</th>\n",
              "      <th>SkinCancer</th>\n",
              "    </tr>\n",
              "  </thead>\n",
              "  <tbody>\n",
              "    <tr>\n",
              "      <th>0</th>\n",
              "      <td>No</td>\n",
              "      <td>16.60</td>\n",
              "      <td>Yes</td>\n",
              "      <td>No</td>\n",
              "      <td>No</td>\n",
              "      <td>3.0</td>\n",
              "      <td>30.0</td>\n",
              "      <td>No</td>\n",
              "      <td>Female</td>\n",
              "      <td>55-59</td>\n",
              "      <td>White</td>\n",
              "      <td>Yes</td>\n",
              "      <td>Yes</td>\n",
              "      <td>Very good</td>\n",
              "      <td>5.0</td>\n",
              "      <td>Yes</td>\n",
              "      <td>No</td>\n",
              "      <td>Yes</td>\n",
              "    </tr>\n",
              "    <tr>\n",
              "      <th>1</th>\n",
              "      <td>No</td>\n",
              "      <td>20.34</td>\n",
              "      <td>No</td>\n",
              "      <td>No</td>\n",
              "      <td>Yes</td>\n",
              "      <td>0.0</td>\n",
              "      <td>0.0</td>\n",
              "      <td>No</td>\n",
              "      <td>Female</td>\n",
              "      <td>80 or older</td>\n",
              "      <td>White</td>\n",
              "      <td>No</td>\n",
              "      <td>Yes</td>\n",
              "      <td>Very good</td>\n",
              "      <td>7.0</td>\n",
              "      <td>No</td>\n",
              "      <td>No</td>\n",
              "      <td>No</td>\n",
              "    </tr>\n",
              "    <tr>\n",
              "      <th>2</th>\n",
              "      <td>No</td>\n",
              "      <td>26.58</td>\n",
              "      <td>Yes</td>\n",
              "      <td>No</td>\n",
              "      <td>No</td>\n",
              "      <td>20.0</td>\n",
              "      <td>30.0</td>\n",
              "      <td>No</td>\n",
              "      <td>Male</td>\n",
              "      <td>65-69</td>\n",
              "      <td>White</td>\n",
              "      <td>Yes</td>\n",
              "      <td>Yes</td>\n",
              "      <td>Fair</td>\n",
              "      <td>8.0</td>\n",
              "      <td>Yes</td>\n",
              "      <td>No</td>\n",
              "      <td>No</td>\n",
              "    </tr>\n",
              "    <tr>\n",
              "      <th>3</th>\n",
              "      <td>No</td>\n",
              "      <td>24.21</td>\n",
              "      <td>No</td>\n",
              "      <td>No</td>\n",
              "      <td>No</td>\n",
              "      <td>0.0</td>\n",
              "      <td>0.0</td>\n",
              "      <td>No</td>\n",
              "      <td>Female</td>\n",
              "      <td>75-79</td>\n",
              "      <td>White</td>\n",
              "      <td>No</td>\n",
              "      <td>No</td>\n",
              "      <td>Good</td>\n",
              "      <td>6.0</td>\n",
              "      <td>No</td>\n",
              "      <td>No</td>\n",
              "      <td>Yes</td>\n",
              "    </tr>\n",
              "    <tr>\n",
              "      <th>4</th>\n",
              "      <td>No</td>\n",
              "      <td>23.71</td>\n",
              "      <td>No</td>\n",
              "      <td>No</td>\n",
              "      <td>No</td>\n",
              "      <td>28.0</td>\n",
              "      <td>0.0</td>\n",
              "      <td>Yes</td>\n",
              "      <td>Female</td>\n",
              "      <td>40-44</td>\n",
              "      <td>White</td>\n",
              "      <td>No</td>\n",
              "      <td>Yes</td>\n",
              "      <td>Very good</td>\n",
              "      <td>8.0</td>\n",
              "      <td>No</td>\n",
              "      <td>No</td>\n",
              "      <td>No</td>\n",
              "    </tr>\n",
              "  </tbody>\n",
              "</table>\n",
              "</div>\n",
              "      <button class=\"colab-df-convert\" onclick=\"convertToInteractive('df-0e50d882-37c3-434d-8e27-824b4f80db7f')\"\n",
              "              title=\"Convert this dataframe to an interactive table.\"\n",
              "              style=\"display:none;\">\n",
              "        \n",
              "  <svg xmlns=\"http://www.w3.org/2000/svg\" height=\"24px\"viewBox=\"0 0 24 24\"\n",
              "       width=\"24px\">\n",
              "    <path d=\"M0 0h24v24H0V0z\" fill=\"none\"/>\n",
              "    <path d=\"M18.56 5.44l.94 2.06.94-2.06 2.06-.94-2.06-.94-.94-2.06-.94 2.06-2.06.94zm-11 1L8.5 8.5l.94-2.06 2.06-.94-2.06-.94L8.5 2.5l-.94 2.06-2.06.94zm10 10l.94 2.06.94-2.06 2.06-.94-2.06-.94-.94-2.06-.94 2.06-2.06.94z\"/><path d=\"M17.41 7.96l-1.37-1.37c-.4-.4-.92-.59-1.43-.59-.52 0-1.04.2-1.43.59L10.3 9.45l-7.72 7.72c-.78.78-.78 2.05 0 2.83L4 21.41c.39.39.9.59 1.41.59.51 0 1.02-.2 1.41-.59l7.78-7.78 2.81-2.81c.8-.78.8-2.07 0-2.86zM5.41 20L4 18.59l7.72-7.72 1.47 1.35L5.41 20z\"/>\n",
              "  </svg>\n",
              "      </button>\n",
              "      \n",
              "  <style>\n",
              "    .colab-df-container {\n",
              "      display:flex;\n",
              "      flex-wrap:wrap;\n",
              "      gap: 12px;\n",
              "    }\n",
              "\n",
              "    .colab-df-convert {\n",
              "      background-color: #E8F0FE;\n",
              "      border: none;\n",
              "      border-radius: 50%;\n",
              "      cursor: pointer;\n",
              "      display: none;\n",
              "      fill: #1967D2;\n",
              "      height: 32px;\n",
              "      padding: 0 0 0 0;\n",
              "      width: 32px;\n",
              "    }\n",
              "\n",
              "    .colab-df-convert:hover {\n",
              "      background-color: #E2EBFA;\n",
              "      box-shadow: 0px 1px 2px rgba(60, 64, 67, 0.3), 0px 1px 3px 1px rgba(60, 64, 67, 0.15);\n",
              "      fill: #174EA6;\n",
              "    }\n",
              "\n",
              "    [theme=dark] .colab-df-convert {\n",
              "      background-color: #3B4455;\n",
              "      fill: #D2E3FC;\n",
              "    }\n",
              "\n",
              "    [theme=dark] .colab-df-convert:hover {\n",
              "      background-color: #434B5C;\n",
              "      box-shadow: 0px 1px 3px 1px rgba(0, 0, 0, 0.15);\n",
              "      filter: drop-shadow(0px 1px 2px rgba(0, 0, 0, 0.3));\n",
              "      fill: #FFFFFF;\n",
              "    }\n",
              "  </style>\n",
              "\n",
              "      <script>\n",
              "        const buttonEl =\n",
              "          document.querySelector('#df-0e50d882-37c3-434d-8e27-824b4f80db7f button.colab-df-convert');\n",
              "        buttonEl.style.display =\n",
              "          google.colab.kernel.accessAllowed ? 'block' : 'none';\n",
              "\n",
              "        async function convertToInteractive(key) {\n",
              "          const element = document.querySelector('#df-0e50d882-37c3-434d-8e27-824b4f80db7f');\n",
              "          const dataTable =\n",
              "            await google.colab.kernel.invokeFunction('convertToInteractive',\n",
              "                                                     [key], {});\n",
              "          if (!dataTable) return;\n",
              "\n",
              "          const docLinkHtml = 'Like what you see? Visit the ' +\n",
              "            '<a target=\"_blank\" href=https://colab.research.google.com/notebooks/data_table.ipynb>data table notebook</a>'\n",
              "            + ' to learn more about interactive tables.';\n",
              "          element.innerHTML = '';\n",
              "          dataTable['output_type'] = 'display_data';\n",
              "          await google.colab.output.renderOutput(dataTable, element);\n",
              "          const docLink = document.createElement('div');\n",
              "          docLink.innerHTML = docLinkHtml;\n",
              "          element.appendChild(docLink);\n",
              "        }\n",
              "      </script>\n",
              "    </div>\n",
              "  </div>\n",
              "  "
            ]
          },
          "metadata": {},
          "execution_count": 18
        }
      ],
      "source": [
        "df = pd.read_csv('heart_2020_cleaned.csv')\n",
        "df.head()"
      ]
    },
    {
      "cell_type": "markdown",
      "id": "eda763be",
      "metadata": {
        "id": "eda763be"
      },
      "source": [
        "### 3. Check the shape of the data (number of rows and columns). Check the general information about the dataframe using the .info() method."
      ]
    },
    {
      "cell_type": "code",
      "execution_count": 19,
      "id": "c246297d",
      "metadata": {
        "id": "c246297d",
        "colab": {
          "base_uri": "https://localhost:8080/"
        },
        "outputId": "9458ba9c-a0b1-4229-9b27-ce84da0c2e95"
      },
      "outputs": [
        {
          "output_type": "execute_result",
          "data": {
            "text/plain": [
              "(319795, 18)"
            ]
          },
          "metadata": {},
          "execution_count": 19
        }
      ],
      "source": [
        "# checking the shape\n",
        "df.shape"
      ]
    },
    {
      "cell_type": "code",
      "execution_count": 20,
      "id": "e0bea748",
      "metadata": {
        "colab": {
          "base_uri": "https://localhost:8080/"
        },
        "id": "e0bea748",
        "outputId": "5855cba2-60b5-4584-f54b-b5f6205b1099"
      },
      "outputs": [
        {
          "output_type": "stream",
          "name": "stdout",
          "text": [
            "<class 'pandas.core.frame.DataFrame'>\n",
            "RangeIndex: 319795 entries, 0 to 319794\n",
            "Data columns (total 18 columns):\n",
            " #   Column            Non-Null Count   Dtype  \n",
            "---  ------            --------------   -----  \n",
            " 0   HeartDisease      319795 non-null  object \n",
            " 1   BMI               319795 non-null  float64\n",
            " 2   Smoking           319795 non-null  object \n",
            " 3   AlcoholDrinking   319795 non-null  object \n",
            " 4   Stroke            319795 non-null  object \n",
            " 5   PhysicalHealth    319795 non-null  float64\n",
            " 6   MentalHealth      319795 non-null  float64\n",
            " 7   DiffWalking       319795 non-null  object \n",
            " 8   Sex               319795 non-null  object \n",
            " 9   AgeCategory       319795 non-null  object \n",
            " 10  Race              319795 non-null  object \n",
            " 11  Diabetic          319795 non-null  object \n",
            " 12  PhysicalActivity  319795 non-null  object \n",
            " 13  GenHealth         319795 non-null  object \n",
            " 14  SleepTime         319795 non-null  float64\n",
            " 15  Asthma            319795 non-null  object \n",
            " 16  KidneyDisease     319795 non-null  object \n",
            " 17  SkinCancer        319795 non-null  object \n",
            "dtypes: float64(4), object(14)\n",
            "memory usage: 43.9+ MB\n"
          ]
        }
      ],
      "source": [
        "# check general information about df\n",
        "df.info()"
      ]
    },
    {
      "cell_type": "markdown",
      "id": "b8470476",
      "metadata": {
        "id": "b8470476"
      },
      "source": [
        "### 4. Check the statistical summary of the dataset and write your inferences."
      ]
    },
    {
      "cell_type": "code",
      "execution_count": 21,
      "id": "d6361f0d",
      "metadata": {
        "colab": {
          "base_uri": "https://localhost:8080/",
          "height": 175
        },
        "id": "d6361f0d",
        "outputId": "ed7c4ca4-3ca9-4f88-af76-69848214f242"
      },
      "outputs": [
        {
          "output_type": "execute_result",
          "data": {
            "text/plain": [
              "                   count       mean       std    min    25%    50%    75%  \\\n",
              "BMI             319795.0  28.325399  6.356100  12.02  24.03  27.34  31.42   \n",
              "PhysicalHealth  319795.0   3.371710  7.950850   0.00   0.00   0.00   2.00   \n",
              "MentalHealth    319795.0   3.898366  7.955235   0.00   0.00   0.00   3.00   \n",
              "SleepTime       319795.0   7.097075  1.436007   1.00   6.00   7.00   8.00   \n",
              "\n",
              "                  max  \n",
              "BMI             94.85  \n",
              "PhysicalHealth  30.00  \n",
              "MentalHealth    30.00  \n",
              "SleepTime       24.00  "
            ],
            "text/html": [
              "\n",
              "  <div id=\"df-1596e989-a855-4bdb-8cc5-eb52e3d94489\">\n",
              "    <div class=\"colab-df-container\">\n",
              "      <div>\n",
              "<style scoped>\n",
              "    .dataframe tbody tr th:only-of-type {\n",
              "        vertical-align: middle;\n",
              "    }\n",
              "\n",
              "    .dataframe tbody tr th {\n",
              "        vertical-align: top;\n",
              "    }\n",
              "\n",
              "    .dataframe thead th {\n",
              "        text-align: right;\n",
              "    }\n",
              "</style>\n",
              "<table border=\"1\" class=\"dataframe\">\n",
              "  <thead>\n",
              "    <tr style=\"text-align: right;\">\n",
              "      <th></th>\n",
              "      <th>count</th>\n",
              "      <th>mean</th>\n",
              "      <th>std</th>\n",
              "      <th>min</th>\n",
              "      <th>25%</th>\n",
              "      <th>50%</th>\n",
              "      <th>75%</th>\n",
              "      <th>max</th>\n",
              "    </tr>\n",
              "  </thead>\n",
              "  <tbody>\n",
              "    <tr>\n",
              "      <th>BMI</th>\n",
              "      <td>319795.0</td>\n",
              "      <td>28.325399</td>\n",
              "      <td>6.356100</td>\n",
              "      <td>12.02</td>\n",
              "      <td>24.03</td>\n",
              "      <td>27.34</td>\n",
              "      <td>31.42</td>\n",
              "      <td>94.85</td>\n",
              "    </tr>\n",
              "    <tr>\n",
              "      <th>PhysicalHealth</th>\n",
              "      <td>319795.0</td>\n",
              "      <td>3.371710</td>\n",
              "      <td>7.950850</td>\n",
              "      <td>0.00</td>\n",
              "      <td>0.00</td>\n",
              "      <td>0.00</td>\n",
              "      <td>2.00</td>\n",
              "      <td>30.00</td>\n",
              "    </tr>\n",
              "    <tr>\n",
              "      <th>MentalHealth</th>\n",
              "      <td>319795.0</td>\n",
              "      <td>3.898366</td>\n",
              "      <td>7.955235</td>\n",
              "      <td>0.00</td>\n",
              "      <td>0.00</td>\n",
              "      <td>0.00</td>\n",
              "      <td>3.00</td>\n",
              "      <td>30.00</td>\n",
              "    </tr>\n",
              "    <tr>\n",
              "      <th>SleepTime</th>\n",
              "      <td>319795.0</td>\n",
              "      <td>7.097075</td>\n",
              "      <td>1.436007</td>\n",
              "      <td>1.00</td>\n",
              "      <td>6.00</td>\n",
              "      <td>7.00</td>\n",
              "      <td>8.00</td>\n",
              "      <td>24.00</td>\n",
              "    </tr>\n",
              "  </tbody>\n",
              "</table>\n",
              "</div>\n",
              "      <button class=\"colab-df-convert\" onclick=\"convertToInteractive('df-1596e989-a855-4bdb-8cc5-eb52e3d94489')\"\n",
              "              title=\"Convert this dataframe to an interactive table.\"\n",
              "              style=\"display:none;\">\n",
              "        \n",
              "  <svg xmlns=\"http://www.w3.org/2000/svg\" height=\"24px\"viewBox=\"0 0 24 24\"\n",
              "       width=\"24px\">\n",
              "    <path d=\"M0 0h24v24H0V0z\" fill=\"none\"/>\n",
              "    <path d=\"M18.56 5.44l.94 2.06.94-2.06 2.06-.94-2.06-.94-.94-2.06-.94 2.06-2.06.94zm-11 1L8.5 8.5l.94-2.06 2.06-.94-2.06-.94L8.5 2.5l-.94 2.06-2.06.94zm10 10l.94 2.06.94-2.06 2.06-.94-2.06-.94-.94-2.06-.94 2.06-2.06.94z\"/><path d=\"M17.41 7.96l-1.37-1.37c-.4-.4-.92-.59-1.43-.59-.52 0-1.04.2-1.43.59L10.3 9.45l-7.72 7.72c-.78.78-.78 2.05 0 2.83L4 21.41c.39.39.9.59 1.41.59.51 0 1.02-.2 1.41-.59l7.78-7.78 2.81-2.81c.8-.78.8-2.07 0-2.86zM5.41 20L4 18.59l7.72-7.72 1.47 1.35L5.41 20z\"/>\n",
              "  </svg>\n",
              "      </button>\n",
              "      \n",
              "  <style>\n",
              "    .colab-df-container {\n",
              "      display:flex;\n",
              "      flex-wrap:wrap;\n",
              "      gap: 12px;\n",
              "    }\n",
              "\n",
              "    .colab-df-convert {\n",
              "      background-color: #E8F0FE;\n",
              "      border: none;\n",
              "      border-radius: 50%;\n",
              "      cursor: pointer;\n",
              "      display: none;\n",
              "      fill: #1967D2;\n",
              "      height: 32px;\n",
              "      padding: 0 0 0 0;\n",
              "      width: 32px;\n",
              "    }\n",
              "\n",
              "    .colab-df-convert:hover {\n",
              "      background-color: #E2EBFA;\n",
              "      box-shadow: 0px 1px 2px rgba(60, 64, 67, 0.3), 0px 1px 3px 1px rgba(60, 64, 67, 0.15);\n",
              "      fill: #174EA6;\n",
              "    }\n",
              "\n",
              "    [theme=dark] .colab-df-convert {\n",
              "      background-color: #3B4455;\n",
              "      fill: #D2E3FC;\n",
              "    }\n",
              "\n",
              "    [theme=dark] .colab-df-convert:hover {\n",
              "      background-color: #434B5C;\n",
              "      box-shadow: 0px 1px 3px 1px rgba(0, 0, 0, 0.15);\n",
              "      filter: drop-shadow(0px 1px 2px rgba(0, 0, 0, 0.3));\n",
              "      fill: #FFFFFF;\n",
              "    }\n",
              "  </style>\n",
              "\n",
              "      <script>\n",
              "        const buttonEl =\n",
              "          document.querySelector('#df-1596e989-a855-4bdb-8cc5-eb52e3d94489 button.colab-df-convert');\n",
              "        buttonEl.style.display =\n",
              "          google.colab.kernel.accessAllowed ? 'block' : 'none';\n",
              "\n",
              "        async function convertToInteractive(key) {\n",
              "          const element = document.querySelector('#df-1596e989-a855-4bdb-8cc5-eb52e3d94489');\n",
              "          const dataTable =\n",
              "            await google.colab.kernel.invokeFunction('convertToInteractive',\n",
              "                                                     [key], {});\n",
              "          if (!dataTable) return;\n",
              "\n",
              "          const docLinkHtml = 'Like what you see? Visit the ' +\n",
              "            '<a target=\"_blank\" href=https://colab.research.google.com/notebooks/data_table.ipynb>data table notebook</a>'\n",
              "            + ' to learn more about interactive tables.';\n",
              "          element.innerHTML = '';\n",
              "          dataTable['output_type'] = 'display_data';\n",
              "          await google.colab.output.renderOutput(dataTable, element);\n",
              "          const docLink = document.createElement('div');\n",
              "          docLink.innerHTML = docLinkHtml;\n",
              "          element.appendChild(docLink);\n",
              "        }\n",
              "      </script>\n",
              "    </div>\n",
              "  </div>\n",
              "  "
            ]
          },
          "metadata": {},
          "execution_count": 21
        }
      ],
      "source": [
        "df.describe().T"
      ]
    },
    {
      "cell_type": "code",
      "execution_count": 22,
      "id": "b28786f2",
      "metadata": {
        "id": "b28786f2",
        "colab": {
          "base_uri": "https://localhost:8080/",
          "height": 239
        },
        "outputId": "bbda58a4-c30a-4d39-d7b1-fd9b0e976982"
      },
      "outputs": [
        {
          "output_type": "execute_result",
          "data": {
            "text/plain": [
              "       HeartDisease Smoking AlcoholDrinking  Stroke DiffWalking     Sex  \\\n",
              "count        319795  319795          319795  319795      319795  319795   \n",
              "unique            2       2               2       2           2       2   \n",
              "top              No      No              No      No          No  Female   \n",
              "freq         292422  187887          298018  307726      275385  167805   \n",
              "\n",
              "       AgeCategory    Race Diabetic PhysicalActivity  GenHealth  Asthma  \\\n",
              "count       319795  319795   319795           319795     319795  319795   \n",
              "unique          13       6        4                2          5       2   \n",
              "top          65-69   White       No              Yes  Very good      No   \n",
              "freq         34151  245212   269653           247957     113858  276923   \n",
              "\n",
              "       KidneyDisease SkinCancer  \n",
              "count         319795     319795  \n",
              "unique             2          2  \n",
              "top               No         No  \n",
              "freq          308016     289976  "
            ],
            "text/html": [
              "\n",
              "  <div id=\"df-afe52653-c700-48f6-8ce7-e6702e7da3dc\">\n",
              "    <div class=\"colab-df-container\">\n",
              "      <div>\n",
              "<style scoped>\n",
              "    .dataframe tbody tr th:only-of-type {\n",
              "        vertical-align: middle;\n",
              "    }\n",
              "\n",
              "    .dataframe tbody tr th {\n",
              "        vertical-align: top;\n",
              "    }\n",
              "\n",
              "    .dataframe thead th {\n",
              "        text-align: right;\n",
              "    }\n",
              "</style>\n",
              "<table border=\"1\" class=\"dataframe\">\n",
              "  <thead>\n",
              "    <tr style=\"text-align: right;\">\n",
              "      <th></th>\n",
              "      <th>HeartDisease</th>\n",
              "      <th>Smoking</th>\n",
              "      <th>AlcoholDrinking</th>\n",
              "      <th>Stroke</th>\n",
              "      <th>DiffWalking</th>\n",
              "      <th>Sex</th>\n",
              "      <th>AgeCategory</th>\n",
              "      <th>Race</th>\n",
              "      <th>Diabetic</th>\n",
              "      <th>PhysicalActivity</th>\n",
              "      <th>GenHealth</th>\n",
              "      <th>Asthma</th>\n",
              "      <th>KidneyDisease</th>\n",
              "      <th>SkinCancer</th>\n",
              "    </tr>\n",
              "  </thead>\n",
              "  <tbody>\n",
              "    <tr>\n",
              "      <th>count</th>\n",
              "      <td>319795</td>\n",
              "      <td>319795</td>\n",
              "      <td>319795</td>\n",
              "      <td>319795</td>\n",
              "      <td>319795</td>\n",
              "      <td>319795</td>\n",
              "      <td>319795</td>\n",
              "      <td>319795</td>\n",
              "      <td>319795</td>\n",
              "      <td>319795</td>\n",
              "      <td>319795</td>\n",
              "      <td>319795</td>\n",
              "      <td>319795</td>\n",
              "      <td>319795</td>\n",
              "    </tr>\n",
              "    <tr>\n",
              "      <th>unique</th>\n",
              "      <td>2</td>\n",
              "      <td>2</td>\n",
              "      <td>2</td>\n",
              "      <td>2</td>\n",
              "      <td>2</td>\n",
              "      <td>2</td>\n",
              "      <td>13</td>\n",
              "      <td>6</td>\n",
              "      <td>4</td>\n",
              "      <td>2</td>\n",
              "      <td>5</td>\n",
              "      <td>2</td>\n",
              "      <td>2</td>\n",
              "      <td>2</td>\n",
              "    </tr>\n",
              "    <tr>\n",
              "      <th>top</th>\n",
              "      <td>No</td>\n",
              "      <td>No</td>\n",
              "      <td>No</td>\n",
              "      <td>No</td>\n",
              "      <td>No</td>\n",
              "      <td>Female</td>\n",
              "      <td>65-69</td>\n",
              "      <td>White</td>\n",
              "      <td>No</td>\n",
              "      <td>Yes</td>\n",
              "      <td>Very good</td>\n",
              "      <td>No</td>\n",
              "      <td>No</td>\n",
              "      <td>No</td>\n",
              "    </tr>\n",
              "    <tr>\n",
              "      <th>freq</th>\n",
              "      <td>292422</td>\n",
              "      <td>187887</td>\n",
              "      <td>298018</td>\n",
              "      <td>307726</td>\n",
              "      <td>275385</td>\n",
              "      <td>167805</td>\n",
              "      <td>34151</td>\n",
              "      <td>245212</td>\n",
              "      <td>269653</td>\n",
              "      <td>247957</td>\n",
              "      <td>113858</td>\n",
              "      <td>276923</td>\n",
              "      <td>308016</td>\n",
              "      <td>289976</td>\n",
              "    </tr>\n",
              "  </tbody>\n",
              "</table>\n",
              "</div>\n",
              "      <button class=\"colab-df-convert\" onclick=\"convertToInteractive('df-afe52653-c700-48f6-8ce7-e6702e7da3dc')\"\n",
              "              title=\"Convert this dataframe to an interactive table.\"\n",
              "              style=\"display:none;\">\n",
              "        \n",
              "  <svg xmlns=\"http://www.w3.org/2000/svg\" height=\"24px\"viewBox=\"0 0 24 24\"\n",
              "       width=\"24px\">\n",
              "    <path d=\"M0 0h24v24H0V0z\" fill=\"none\"/>\n",
              "    <path d=\"M18.56 5.44l.94 2.06.94-2.06 2.06-.94-2.06-.94-.94-2.06-.94 2.06-2.06.94zm-11 1L8.5 8.5l.94-2.06 2.06-.94-2.06-.94L8.5 2.5l-.94 2.06-2.06.94zm10 10l.94 2.06.94-2.06 2.06-.94-2.06-.94-.94-2.06-.94 2.06-2.06.94z\"/><path d=\"M17.41 7.96l-1.37-1.37c-.4-.4-.92-.59-1.43-.59-.52 0-1.04.2-1.43.59L10.3 9.45l-7.72 7.72c-.78.78-.78 2.05 0 2.83L4 21.41c.39.39.9.59 1.41.59.51 0 1.02-.2 1.41-.59l7.78-7.78 2.81-2.81c.8-.78.8-2.07 0-2.86zM5.41 20L4 18.59l7.72-7.72 1.47 1.35L5.41 20z\"/>\n",
              "  </svg>\n",
              "      </button>\n",
              "      \n",
              "  <style>\n",
              "    .colab-df-container {\n",
              "      display:flex;\n",
              "      flex-wrap:wrap;\n",
              "      gap: 12px;\n",
              "    }\n",
              "\n",
              "    .colab-df-convert {\n",
              "      background-color: #E8F0FE;\n",
              "      border: none;\n",
              "      border-radius: 50%;\n",
              "      cursor: pointer;\n",
              "      display: none;\n",
              "      fill: #1967D2;\n",
              "      height: 32px;\n",
              "      padding: 0 0 0 0;\n",
              "      width: 32px;\n",
              "    }\n",
              "\n",
              "    .colab-df-convert:hover {\n",
              "      background-color: #E2EBFA;\n",
              "      box-shadow: 0px 1px 2px rgba(60, 64, 67, 0.3), 0px 1px 3px 1px rgba(60, 64, 67, 0.15);\n",
              "      fill: #174EA6;\n",
              "    }\n",
              "\n",
              "    [theme=dark] .colab-df-convert {\n",
              "      background-color: #3B4455;\n",
              "      fill: #D2E3FC;\n",
              "    }\n",
              "\n",
              "    [theme=dark] .colab-df-convert:hover {\n",
              "      background-color: #434B5C;\n",
              "      box-shadow: 0px 1px 3px 1px rgba(0, 0, 0, 0.15);\n",
              "      filter: drop-shadow(0px 1px 2px rgba(0, 0, 0, 0.3));\n",
              "      fill: #FFFFFF;\n",
              "    }\n",
              "  </style>\n",
              "\n",
              "      <script>\n",
              "        const buttonEl =\n",
              "          document.querySelector('#df-afe52653-c700-48f6-8ce7-e6702e7da3dc button.colab-df-convert');\n",
              "        buttonEl.style.display =\n",
              "          google.colab.kernel.accessAllowed ? 'block' : 'none';\n",
              "\n",
              "        async function convertToInteractive(key) {\n",
              "          const element = document.querySelector('#df-afe52653-c700-48f6-8ce7-e6702e7da3dc');\n",
              "          const dataTable =\n",
              "            await google.colab.kernel.invokeFunction('convertToInteractive',\n",
              "                                                     [key], {});\n",
              "          if (!dataTable) return;\n",
              "\n",
              "          const docLinkHtml = 'Like what you see? Visit the ' +\n",
              "            '<a target=\"_blank\" href=https://colab.research.google.com/notebooks/data_table.ipynb>data table notebook</a>'\n",
              "            + ' to learn more about interactive tables.';\n",
              "          element.innerHTML = '';\n",
              "          dataTable['output_type'] = 'display_data';\n",
              "          await google.colab.output.renderOutput(dataTable, element);\n",
              "          const docLink = document.createElement('div');\n",
              "          docLink.innerHTML = docLinkHtml;\n",
              "          element.appendChild(docLink);\n",
              "        }\n",
              "      </script>\n",
              "    </div>\n",
              "  </div>\n",
              "  "
            ]
          },
          "metadata": {},
          "execution_count": 22
        }
      ],
      "source": [
        "df.describe(include='O')"
      ]
    },
    {
      "cell_type": "markdown",
      "id": "fbe6eda2",
      "metadata": {
        "id": "fbe6eda2"
      },
      "source": [
        "- BMI ranges from 12 to 94.85\n",
        "- MentalHealth indicates the number of days during the past 30 days when your mental health was not good. The average value of MentalHealth is 7 for this dataset.\n",
        "- AgeCategory , Race, Diabetic GenHealth has more than 2 unique values.\n",
        "- Heart Desease, Smoking, AlcoholDrinking, Stroke , DiffWalking,Sex,PhysicalActivity, Asthma, KidneyDiease and SkinCancer are binary."
      ]
    },
    {
      "cell_type": "markdown",
      "id": "25d21a69",
      "metadata": {
        "id": "25d21a69"
      },
      "source": [
        "### 5. Check the percentage of missing values in each column of the data frame. Drop the missing values if there are any."
      ]
    },
    {
      "cell_type": "code",
      "execution_count": 23,
      "id": "20d33888",
      "metadata": {
        "id": "20d33888",
        "colab": {
          "base_uri": "https://localhost:8080/",
          "height": 614
        },
        "outputId": "89cd0973-1129-4c3c-fc02-1a27f9436830"
      },
      "outputs": [
        {
          "output_type": "execute_result",
          "data": {
            "text/plain": [
              "                  Percentage\n",
              "HeartDisease             0.0\n",
              "BMI                      0.0\n",
              "Smoking                  0.0\n",
              "AlcoholDrinking          0.0\n",
              "Stroke                   0.0\n",
              "PhysicalHealth           0.0\n",
              "MentalHealth             0.0\n",
              "DiffWalking              0.0\n",
              "Sex                      0.0\n",
              "AgeCategory              0.0\n",
              "Race                     0.0\n",
              "Diabetic                 0.0\n",
              "PhysicalActivity         0.0\n",
              "GenHealth                0.0\n",
              "SleepTime                0.0\n",
              "Asthma                   0.0\n",
              "KidneyDisease            0.0\n",
              "SkinCancer               0.0"
            ],
            "text/html": [
              "\n",
              "  <div id=\"df-5a8ebba9-86dc-496c-a497-1deebd73adf9\">\n",
              "    <div class=\"colab-df-container\">\n",
              "      <div>\n",
              "<style scoped>\n",
              "    .dataframe tbody tr th:only-of-type {\n",
              "        vertical-align: middle;\n",
              "    }\n",
              "\n",
              "    .dataframe tbody tr th {\n",
              "        vertical-align: top;\n",
              "    }\n",
              "\n",
              "    .dataframe thead th {\n",
              "        text-align: right;\n",
              "    }\n",
              "</style>\n",
              "<table border=\"1\" class=\"dataframe\">\n",
              "  <thead>\n",
              "    <tr style=\"text-align: right;\">\n",
              "      <th></th>\n",
              "      <th>Percentage</th>\n",
              "    </tr>\n",
              "  </thead>\n",
              "  <tbody>\n",
              "    <tr>\n",
              "      <th>HeartDisease</th>\n",
              "      <td>0.0</td>\n",
              "    </tr>\n",
              "    <tr>\n",
              "      <th>BMI</th>\n",
              "      <td>0.0</td>\n",
              "    </tr>\n",
              "    <tr>\n",
              "      <th>Smoking</th>\n",
              "      <td>0.0</td>\n",
              "    </tr>\n",
              "    <tr>\n",
              "      <th>AlcoholDrinking</th>\n",
              "      <td>0.0</td>\n",
              "    </tr>\n",
              "    <tr>\n",
              "      <th>Stroke</th>\n",
              "      <td>0.0</td>\n",
              "    </tr>\n",
              "    <tr>\n",
              "      <th>PhysicalHealth</th>\n",
              "      <td>0.0</td>\n",
              "    </tr>\n",
              "    <tr>\n",
              "      <th>MentalHealth</th>\n",
              "      <td>0.0</td>\n",
              "    </tr>\n",
              "    <tr>\n",
              "      <th>DiffWalking</th>\n",
              "      <td>0.0</td>\n",
              "    </tr>\n",
              "    <tr>\n",
              "      <th>Sex</th>\n",
              "      <td>0.0</td>\n",
              "    </tr>\n",
              "    <tr>\n",
              "      <th>AgeCategory</th>\n",
              "      <td>0.0</td>\n",
              "    </tr>\n",
              "    <tr>\n",
              "      <th>Race</th>\n",
              "      <td>0.0</td>\n",
              "    </tr>\n",
              "    <tr>\n",
              "      <th>Diabetic</th>\n",
              "      <td>0.0</td>\n",
              "    </tr>\n",
              "    <tr>\n",
              "      <th>PhysicalActivity</th>\n",
              "      <td>0.0</td>\n",
              "    </tr>\n",
              "    <tr>\n",
              "      <th>GenHealth</th>\n",
              "      <td>0.0</td>\n",
              "    </tr>\n",
              "    <tr>\n",
              "      <th>SleepTime</th>\n",
              "      <td>0.0</td>\n",
              "    </tr>\n",
              "    <tr>\n",
              "      <th>Asthma</th>\n",
              "      <td>0.0</td>\n",
              "    </tr>\n",
              "    <tr>\n",
              "      <th>KidneyDisease</th>\n",
              "      <td>0.0</td>\n",
              "    </tr>\n",
              "    <tr>\n",
              "      <th>SkinCancer</th>\n",
              "      <td>0.0</td>\n",
              "    </tr>\n",
              "  </tbody>\n",
              "</table>\n",
              "</div>\n",
              "      <button class=\"colab-df-convert\" onclick=\"convertToInteractive('df-5a8ebba9-86dc-496c-a497-1deebd73adf9')\"\n",
              "              title=\"Convert this dataframe to an interactive table.\"\n",
              "              style=\"display:none;\">\n",
              "        \n",
              "  <svg xmlns=\"http://www.w3.org/2000/svg\" height=\"24px\"viewBox=\"0 0 24 24\"\n",
              "       width=\"24px\">\n",
              "    <path d=\"M0 0h24v24H0V0z\" fill=\"none\"/>\n",
              "    <path d=\"M18.56 5.44l.94 2.06.94-2.06 2.06-.94-2.06-.94-.94-2.06-.94 2.06-2.06.94zm-11 1L8.5 8.5l.94-2.06 2.06-.94-2.06-.94L8.5 2.5l-.94 2.06-2.06.94zm10 10l.94 2.06.94-2.06 2.06-.94-2.06-.94-.94-2.06-.94 2.06-2.06.94z\"/><path d=\"M17.41 7.96l-1.37-1.37c-.4-.4-.92-.59-1.43-.59-.52 0-1.04.2-1.43.59L10.3 9.45l-7.72 7.72c-.78.78-.78 2.05 0 2.83L4 21.41c.39.39.9.59 1.41.59.51 0 1.02-.2 1.41-.59l7.78-7.78 2.81-2.81c.8-.78.8-2.07 0-2.86zM5.41 20L4 18.59l7.72-7.72 1.47 1.35L5.41 20z\"/>\n",
              "  </svg>\n",
              "      </button>\n",
              "      \n",
              "  <style>\n",
              "    .colab-df-container {\n",
              "      display:flex;\n",
              "      flex-wrap:wrap;\n",
              "      gap: 12px;\n",
              "    }\n",
              "\n",
              "    .colab-df-convert {\n",
              "      background-color: #E8F0FE;\n",
              "      border: none;\n",
              "      border-radius: 50%;\n",
              "      cursor: pointer;\n",
              "      display: none;\n",
              "      fill: #1967D2;\n",
              "      height: 32px;\n",
              "      padding: 0 0 0 0;\n",
              "      width: 32px;\n",
              "    }\n",
              "\n",
              "    .colab-df-convert:hover {\n",
              "      background-color: #E2EBFA;\n",
              "      box-shadow: 0px 1px 2px rgba(60, 64, 67, 0.3), 0px 1px 3px 1px rgba(60, 64, 67, 0.15);\n",
              "      fill: #174EA6;\n",
              "    }\n",
              "\n",
              "    [theme=dark] .colab-df-convert {\n",
              "      background-color: #3B4455;\n",
              "      fill: #D2E3FC;\n",
              "    }\n",
              "\n",
              "    [theme=dark] .colab-df-convert:hover {\n",
              "      background-color: #434B5C;\n",
              "      box-shadow: 0px 1px 3px 1px rgba(0, 0, 0, 0.15);\n",
              "      filter: drop-shadow(0px 1px 2px rgba(0, 0, 0, 0.3));\n",
              "      fill: #FFFFFF;\n",
              "    }\n",
              "  </style>\n",
              "\n",
              "      <script>\n",
              "        const buttonEl =\n",
              "          document.querySelector('#df-5a8ebba9-86dc-496c-a497-1deebd73adf9 button.colab-df-convert');\n",
              "        buttonEl.style.display =\n",
              "          google.colab.kernel.accessAllowed ? 'block' : 'none';\n",
              "\n",
              "        async function convertToInteractive(key) {\n",
              "          const element = document.querySelector('#df-5a8ebba9-86dc-496c-a497-1deebd73adf9');\n",
              "          const dataTable =\n",
              "            await google.colab.kernel.invokeFunction('convertToInteractive',\n",
              "                                                     [key], {});\n",
              "          if (!dataTable) return;\n",
              "\n",
              "          const docLinkHtml = 'Like what you see? Visit the ' +\n",
              "            '<a target=\"_blank\" href=https://colab.research.google.com/notebooks/data_table.ipynb>data table notebook</a>'\n",
              "            + ' to learn more about interactive tables.';\n",
              "          element.innerHTML = '';\n",
              "          dataTable['output_type'] = 'display_data';\n",
              "          await google.colab.output.renderOutput(dataTable, element);\n",
              "          const docLink = document.createElement('div');\n",
              "          docLink.innerHTML = docLinkHtml;\n",
              "          element.appendChild(docLink);\n",
              "        }\n",
              "      </script>\n",
              "    </div>\n",
              "  </div>\n",
              "  "
            ]
          },
          "metadata": {},
          "execution_count": 23
        }
      ],
      "source": [
        "miss = pd.DataFrame(df.isnull().sum()/len(df)*100)\n",
        "miss.columns = ['Percentage']\n",
        "miss"
      ]
    },
    {
      "cell_type": "markdown",
      "id": "d043fd21",
      "metadata": {
        "id": "d043fd21"
      },
      "source": [
        " No NULL values in the dataset"
      ]
    },
    {
      "cell_type": "markdown",
      "id": "030b4016",
      "metadata": {
        "id": "030b4016"
      },
      "source": [
        "### 6. Check if there are any duplicate rows. If any drop them and check the shape of the dataframe after dropping duplicates."
      ]
    },
    {
      "cell_type": "code",
      "execution_count": 24,
      "id": "11f42ddc",
      "metadata": {
        "id": "11f42ddc",
        "colab": {
          "base_uri": "https://localhost:8080/"
        },
        "outputId": "09a2c075-b02b-4814-9d71-01ec7a06b9fc"
      },
      "outputs": [
        {
          "output_type": "execute_result",
          "data": {
            "text/plain": [
              "18078"
            ]
          },
          "metadata": {},
          "execution_count": 24
        }
      ],
      "source": [
        "#No of duplicates\n",
        "len(df[df.duplicated()])"
      ]
    },
    {
      "cell_type": "code",
      "execution_count": 25,
      "id": "c9f97c81",
      "metadata": {
        "id": "c9f97c81"
      },
      "outputs": [],
      "source": [
        "# dropping duplicates\n",
        "df.drop_duplicates(inplace=True)"
      ]
    },
    {
      "cell_type": "code",
      "execution_count": 26,
      "id": "f41ed918",
      "metadata": {
        "colab": {
          "base_uri": "https://localhost:8080/"
        },
        "id": "f41ed918",
        "outputId": "d3e4484a-e530-4e91-e188-32a0a12b0a81"
      },
      "outputs": [
        {
          "output_type": "execute_result",
          "data": {
            "text/plain": [
              "(301717, 18)"
            ]
          },
          "metadata": {},
          "execution_count": 26
        }
      ],
      "source": [
        "# Checking the shape after dropping duplicates\n",
        "df.shape"
      ]
    },
    {
      "cell_type": "markdown",
      "id": "817d0f41",
      "metadata": {
        "id": "817d0f41"
      },
      "source": [
        "### 7. Check the distribution of the target variable (i.e. 'HeartDisease') and write your observations."
      ]
    },
    {
      "cell_type": "code",
      "execution_count": 31,
      "id": "62d1e2b3",
      "metadata": {
        "id": "62d1e2b3",
        "colab": {
          "base_uri": "https://localhost:8080/"
        },
        "outputId": "767b5dfd-a57c-4f17-9931-bae3cb946e30"
      },
      "outputs": [
        {
          "output_type": "stream",
          "name": "stdout",
          "text": [
            "No     274456\n",
            "Yes     27261\n",
            "Name: HeartDisease, dtype: int64\n",
            "\n",
            "Ratio of No to Yes values : 10.067715784453982\n"
          ]
        }
      ],
      "source": [
        "vc = df['HeartDisease'].value_counts()\n",
        "print(vc)\n",
        "print()\n",
        "print(\"Ratio of No to Yes values :\",vc[0]/vc[1])"
      ]
    },
    {
      "cell_type": "markdown",
      "id": "9f73d5c4",
      "metadata": {
        "id": "9f73d5c4"
      },
      "source": [
        "- There is high class imbalance in the target variable"
      ]
    },
    {
      "cell_type": "markdown",
      "id": "1cd33e88",
      "metadata": {
        "id": "1cd33e88"
      },
      "source": [
        "### 8. Visualize the distribution of the target column 'Heart disease' with respect to various categorical features and write your observations."
      ]
    },
    {
      "cell_type": "code",
      "execution_count": 32,
      "id": "888be5c5",
      "metadata": {
        "id": "888be5c5",
        "colab": {
          "base_uri": "https://localhost:8080/"
        },
        "outputId": "e0891fa3-f02a-4b1d-f6c1-05581c060b8c"
      },
      "outputs": [
        {
          "output_type": "execute_result",
          "data": {
            "text/plain": [
              "Index(['HeartDisease', 'Smoking', 'AlcoholDrinking', 'Stroke', 'DiffWalking',\n",
              "       'Sex', 'AgeCategory', 'Race', 'Diabetic', 'PhysicalActivity',\n",
              "       'GenHealth', 'Asthma', 'KidneyDisease', 'SkinCancer'],\n",
              "      dtype='object')"
            ]
          },
          "metadata": {},
          "execution_count": 32
        }
      ],
      "source": [
        "# getting categorical features\n",
        "categorical_features=df.select_dtypes(include=[np.object])\n",
        "categorical_features.columns"
      ]
    },
    {
      "cell_type": "markdown",
      "id": "bcb6c7f2",
      "metadata": {
        "id": "bcb6c7f2"
      },
      "source": [
        "### Distribution of the number of people with heart disease w.r.t. various features"
      ]
    },
    {
      "cell_type": "code",
      "execution_count": 37,
      "id": "0504f05f",
      "metadata": {
        "colab": {
          "base_uri": "https://localhost:8080/",
          "height": 763
        },
        "id": "0504f05f",
        "outputId": "3c7e6d30-d46a-403b-ab90-55d3e4dddaad"
      },
      "outputs": [
        {
          "output_type": "display_data",
          "data": {
            "text/plain": [
              "<Figure size 2160x1800 with 14 Axes>"
            ],
            "image/png": "[encoded data removed]"
          },
          "metadata": {
            "needs_background": "light"
          }
        }
      ],
      "source": [
        "plt.figure(figsize=(30,25))\n",
        "for i,feature in enumerate(categorical_features):\n",
        "    plt.subplot(6,3,i+1)\n",
        "    sns.countplot(x=feature,hue='HeartDisease',data=df)"
      ]
    },
    {
      "cell_type": "markdown",
      "id": "11af76b7",
      "metadata": {
        "id": "11af76b7"
      },
      "source": [
        "### 9. Check the unique categories in the column 'Diabetic'. Replace 'Yes (during pregnancy)' as 'Yes' and 'No, borderline diabetes' as 'No'."
      ]
    },
    {
      "cell_type": "code",
      "execution_count": 38,
      "id": "86fccebe",
      "metadata": {
        "id": "86fccebe",
        "colab": {
          "base_uri": "https://localhost:8080/"
        },
        "outputId": "d1c2e529-c762-43a7-dc03-3cb9a7cdb3ef"
      },
      "outputs": [
        {
          "output_type": "stream",
          "name": "stdout",
          "text": [
            "['Yes' 'No' 'No, borderline diabetes' 'Yes (during pregnancy)']\n"
          ]
        }
      ],
      "source": [
        "# unique categories in 'Diabetic'\n",
        "print(df['Diabetic'].unique())"
      ]
    },
    {
      "cell_type": "code",
      "execution_count": 39,
      "id": "a6b49479",
      "metadata": {
        "id": "a6b49479"
      },
      "outputs": [],
      "source": [
        "df['Diabetic']=df['Diabetic'].replace({'Yes (during pregnancy)':'Yes','No, borderline diabetes':'No'})"
      ]
    },
    {
      "cell_type": "code",
      "execution_count": 40,
      "id": "ba16faff",
      "metadata": {
        "colab": {
          "base_uri": "https://localhost:8080/"
        },
        "id": "ba16faff",
        "outputId": "6f926e87-7e9d-4f0b-e988-82e316035bf2"
      },
      "outputs": [
        {
          "output_type": "execute_result",
          "data": {
            "text/plain": [
              "No     258572\n",
              "Yes     43145\n",
              "Name: Diabetic, dtype: int64"
            ]
          },
          "metadata": {},
          "execution_count": 40
        }
      ],
      "source": [
        "# checking\n",
        "df['Diabetic'].value_counts()"
      ]
    },
    {
      "cell_type": "markdown",
      "id": "e204cd08",
      "metadata": {
        "id": "e204cd08"
      },
      "source": [
        "### 10. For the target column 'HeartDiease', Replace 'No' as 0 and 'Yes' as 1. "
      ]
    },
    {
      "cell_type": "code",
      "execution_count": 41,
      "id": "22190734",
      "metadata": {
        "id": "22190734"
      },
      "outputs": [],
      "source": [
        "# Replacing \"No\" as 0 and \"Yes\" as 1\n",
        "df['HeartDisease']=df['HeartDisease'].replace({'Yes':1,'No':0})"
      ]
    },
    {
      "cell_type": "code",
      "execution_count": 42,
      "id": "1631d2f4",
      "metadata": {
        "colab": {
          "base_uri": "https://localhost:8080/"
        },
        "id": "1631d2f4",
        "outputId": "2a56f68a-7804-4c5d-e543-a4070da701b9"
      },
      "outputs": [
        {
          "output_type": "execute_result",
          "data": {
            "text/plain": [
              "0    274456\n",
              "1     27261\n",
              "Name: HeartDisease, dtype: int64"
            ]
          },
          "metadata": {},
          "execution_count": 42
        }
      ],
      "source": [
        "# checking\n",
        "df['HeartDisease'].value_counts()"
      ]
    },
    {
      "cell_type": "markdown",
      "id": "7cdb58cd",
      "metadata": {
        "id": "7cdb58cd"
      },
      "source": [
        "### 11. Label Encode the columns \"AgeCategory\", \"Race\", and \"GenHealth\". Encode the rest of the columns using dummy encoding approach."
      ]
    },
    {
      "cell_type": "code",
      "execution_count": 43,
      "id": "707747be",
      "metadata": {
        "id": "707747be"
      },
      "outputs": [],
      "source": [
        "\n",
        "# select object datatype variables\n",
        "object_type_variables=[i for i in df[['AgeCategory','Race','GenHealth']] if df.dtypes[i]==object]\n",
        "object_type_variables\n",
        "\n",
        "# label encoding categorical variables\n",
        "\n",
        "le =LabelEncoder()\n",
        "\n",
        "def encoder(df):\n",
        "    for i in object_type_variables:\n",
        "        q=le.fit_transform(df[i].astype(str))\n",
        "        df[i]=q\n",
        "        df[i]=df[i].astype(int)\n",
        "encoder(df)"
      ]
    },
    {
      "cell_type": "code",
      "execution_count": 44,
      "id": "59654044",
      "metadata": {
        "id": "59654044"
      },
      "outputs": [],
      "source": [
        "# dummy encoding the rest of the columns\n",
        "df=pd.get_dummies(df,drop_first=True)\n"
      ]
    },
    {
      "cell_type": "code",
      "execution_count": 45,
      "id": "e59708d9",
      "metadata": {
        "colab": {
          "base_uri": "https://localhost:8080/",
          "height": 270
        },
        "id": "e59708d9",
        "outputId": "a9d447b9-4e3e-4be2-fd21-e46dab2a7c5a"
      },
      "outputs": [
        {
          "output_type": "execute_result",
          "data": {
            "text/plain": [
              "   HeartDisease    BMI  PhysicalHealth  MentalHealth  AgeCategory  Race  \\\n",
              "0             0  16.60             3.0          30.0            7     5   \n",
              "1             0  20.34             0.0           0.0           12     5   \n",
              "2             0  26.58            20.0          30.0            9     5   \n",
              "3             0  24.21             0.0           0.0           11     5   \n",
              "4             0  23.71            28.0           0.0            4     5   \n",
              "\n",
              "   GenHealth  SleepTime  Smoking_Yes  AlcoholDrinking_Yes  Stroke_Yes  \\\n",
              "0          4        5.0            1                    0           0   \n",
              "1          4        7.0            0                    0           1   \n",
              "2          1        8.0            1                    0           0   \n",
              "3          2        6.0            0                    0           0   \n",
              "4          4        8.0            0                    0           0   \n",
              "\n",
              "   DiffWalking_Yes  Sex_Male  Diabetic_Yes  PhysicalActivity_Yes  Asthma_Yes  \\\n",
              "0                0         0             1                     1           1   \n",
              "1                0         0             0                     1           0   \n",
              "2                0         1             1                     1           1   \n",
              "3                0         0             0                     0           0   \n",
              "4                1         0             0                     1           0   \n",
              "\n",
              "   KidneyDisease_Yes  SkinCancer_Yes  \n",
              "0                  0               1  \n",
              "1                  0               0  \n",
              "2                  0               0  \n",
              "3                  0               1  \n",
              "4                  0               0  "
            ],
            "text/html": [
              "\n",
              "  <div id=\"df-007a4275-5123-4e5c-aa55-e39344274c15\">\n",
              "    <div class=\"colab-df-container\">\n",
              "      <div>\n",
              "<style scoped>\n",
              "    .dataframe tbody tr th:only-of-type {\n",
              "        vertical-align: middle;\n",
              "    }\n",
              "\n",
              "    .dataframe tbody tr th {\n",
              "        vertical-align: top;\n",
              "    }\n",
              "\n",
              "    .dataframe thead th {\n",
              "        text-align: right;\n",
              "    }\n",
              "</style>\n",
              "<table border=\"1\" class=\"dataframe\">\n",
              "  <thead>\n",
              "    <tr style=\"text-align: right;\">\n",
              "      <th></th>\n",
              "      <th>HeartDisease</th>\n",
              "      <th>BMI</th>\n",
              "      <th>PhysicalHealth</th>\n",
              "      <th>MentalHealth</th>\n",
              "      <th>AgeCategory</th>\n",
              "      <th>Race</th>\n",
              "      <th>GenHealth</th>\n",
              "      <th>SleepTime</th>\n",
              "      <th>Smoking_Yes</th>\n",
              "      <th>AlcoholDrinking_Yes</th>\n",
              "      <th>Stroke_Yes</th>\n",
              "      <th>DiffWalking_Yes</th>\n",
              "      <th>Sex_Male</th>\n",
              "      <th>Diabetic_Yes</th>\n",
              "      <th>PhysicalActivity_Yes</th>\n",
              "      <th>Asthma_Yes</th>\n",
              "      <th>KidneyDisease_Yes</th>\n",
              "      <th>SkinCancer_Yes</th>\n",
              "    </tr>\n",
              "  </thead>\n",
              "  <tbody>\n",
              "    <tr>\n",
              "      <th>0</th>\n",
              "      <td>0</td>\n",
              "      <td>16.60</td>\n",
              "      <td>3.0</td>\n",
              "      <td>30.0</td>\n",
              "      <td>7</td>\n",
              "      <td>5</td>\n",
              "      <td>4</td>\n",
              "      <td>5.0</td>\n",
              "      <td>1</td>\n",
              "      <td>0</td>\n",
              "      <td>0</td>\n",
              "      <td>0</td>\n",
              "      <td>0</td>\n",
              "      <td>1</td>\n",
              "      <td>1</td>\n",
              "      <td>1</td>\n",
              "      <td>0</td>\n",
              "      <td>1</td>\n",
              "    </tr>\n",
              "    <tr>\n",
              "      <th>1</th>\n",
              "      <td>0</td>\n",
              "      <td>20.34</td>\n",
              "      <td>0.0</td>\n",
              "      <td>0.0</td>\n",
              "      <td>12</td>\n",
              "      <td>5</td>\n",
              "      <td>4</td>\n",
              "      <td>7.0</td>\n",
              "      <td>0</td>\n",
              "      <td>0</td>\n",
              "      <td>1</td>\n",
              "      <td>0</td>\n",
              "      <td>0</td>\n",
              "      <td>0</td>\n",
              "      <td>1</td>\n",
              "      <td>0</td>\n",
              "      <td>0</td>\n",
              "      <td>0</td>\n",
              "    </tr>\n",
              "    <tr>\n",
              "      <th>2</th>\n",
              "      <td>0</td>\n",
              "      <td>26.58</td>\n",
              "      <td>20.0</td>\n",
              "      <td>30.0</td>\n",
              "      <td>9</td>\n",
              "      <td>5</td>\n",
              "      <td>1</td>\n",
              "      <td>8.0</td>\n",
              "      <td>1</td>\n",
              "      <td>0</td>\n",
              "      <td>0</td>\n",
              "      <td>0</td>\n",
              "      <td>1</td>\n",
              "      <td>1</td>\n",
              "      <td>1</td>\n",
              "      <td>1</td>\n",
              "      <td>0</td>\n",
              "      <td>0</td>\n",
              "    </tr>\n",
              "    <tr>\n",
              "      <th>3</th>\n",
              "      <td>0</td>\n",
              "      <td>24.21</td>\n",
              "      <td>0.0</td>\n",
              "      <td>0.0</td>\n",
              "      <td>11</td>\n",
              "      <td>5</td>\n",
              "      <td>2</td>\n",
              "      <td>6.0</td>\n",
              "      <td>0</td>\n",
              "      <td>0</td>\n",
              "      <td>0</td>\n",
              "      <td>0</td>\n",
              "      <td>0</td>\n",
              "      <td>0</td>\n",
              "      <td>0</td>\n",
              "      <td>0</td>\n",
              "      <td>0</td>\n",
              "      <td>1</td>\n",
              "    </tr>\n",
              "    <tr>\n",
              "      <th>4</th>\n",
              "      <td>0</td>\n",
              "      <td>23.71</td>\n",
              "      <td>28.0</td>\n",
              "      <td>0.0</td>\n",
              "      <td>4</td>\n",
              "      <td>5</td>\n",
              "      <td>4</td>\n",
              "      <td>8.0</td>\n",
              "      <td>0</td>\n",
              "      <td>0</td>\n",
              "      <td>0</td>\n",
              "      <td>1</td>\n",
              "      <td>0</td>\n",
              "      <td>0</td>\n",
              "      <td>1</td>\n",
              "      <td>0</td>\n",
              "      <td>0</td>\n",
              "      <td>0</td>\n",
              "    </tr>\n",
              "  </tbody>\n",
              "</table>\n",
              "</div>\n",
              "      <button class=\"colab-df-convert\" onclick=\"convertToInteractive('df-007a4275-5123-4e5c-aa55-e39344274c15')\"\n",
              "              title=\"Convert this dataframe to an interactive table.\"\n",
              "              style=\"display:none;\">\n",
              "        \n",
              "  <svg xmlns=\"http://www.w3.org/2000/svg\" height=\"24px\"viewBox=\"0 0 24 24\"\n",
              "       width=\"24px\">\n",
              "    <path d=\"M0 0h24v24H0V0z\" fill=\"none\"/>\n",
              "    <path d=\"M18.56 5.44l.94 2.06.94-2.06 2.06-.94-2.06-.94-.94-2.06-.94 2.06-2.06.94zm-11 1L8.5 8.5l.94-2.06 2.06-.94-2.06-.94L8.5 2.5l-.94 2.06-2.06.94zm10 10l.94 2.06.94-2.06 2.06-.94-2.06-.94-.94-2.06-.94 2.06-2.06.94z\"/><path d=\"M17.41 7.96l-1.37-1.37c-.4-.4-.92-.59-1.43-.59-.52 0-1.04.2-1.43.59L10.3 9.45l-7.72 7.72c-.78.78-.78 2.05 0 2.83L4 21.41c.39.39.9.59 1.41.59.51 0 1.02-.2 1.41-.59l7.78-7.78 2.81-2.81c.8-.78.8-2.07 0-2.86zM5.41 20L4 18.59l7.72-7.72 1.47 1.35L5.41 20z\"/>\n",
              "  </svg>\n",
              "      </button>\n",
              "      \n",
              "  <style>\n",
              "    .colab-df-container {\n",
              "      display:flex;\n",
              "      flex-wrap:wrap;\n",
              "      gap: 12px;\n",
              "    }\n",
              "\n",
              "    .colab-df-convert {\n",
              "      background-color: #E8F0FE;\n",
              "      border: none;\n",
              "      border-radius: 50%;\n",
              "      cursor: pointer;\n",
              "      display: none;\n",
              "      fill: #1967D2;\n",
              "      height: 32px;\n",
              "      padding: 0 0 0 0;\n",
              "      width: 32px;\n",
              "    }\n",
              "\n",
              "    .colab-df-convert:hover {\n",
              "      background-color: #E2EBFA;\n",
              "      box-shadow: 0px 1px 2px rgba(60, 64, 67, 0.3), 0px 1px 3px 1px rgba(60, 64, 67, 0.15);\n",
              "      fill: #174EA6;\n",
              "    }\n",
              "\n",
              "    [theme=dark] .colab-df-convert {\n",
              "      background-color: #3B4455;\n",
              "      fill: #D2E3FC;\n",
              "    }\n",
              "\n",
              "    [theme=dark] .colab-df-convert:hover {\n",
              "      background-color: #434B5C;\n",
              "      box-shadow: 0px 1px 3px 1px rgba(0, 0, 0, 0.15);\n",
              "      filter: drop-shadow(0px 1px 2px rgba(0, 0, 0, 0.3));\n",
              "      fill: #FFFFFF;\n",
              "    }\n",
              "  </style>\n",
              "\n",
              "      <script>\n",
              "        const buttonEl =\n",
              "          document.querySelector('#df-007a4275-5123-4e5c-aa55-e39344274c15 button.colab-df-convert');\n",
              "        buttonEl.style.display =\n",
              "          google.colab.kernel.accessAllowed ? 'block' : 'none';\n",
              "\n",
              "        async function convertToInteractive(key) {\n",
              "          const element = document.querySelector('#df-007a4275-5123-4e5c-aa55-e39344274c15');\n",
              "          const dataTable =\n",
              "            await google.colab.kernel.invokeFunction('convertToInteractive',\n",
              "                                                     [key], {});\n",
              "          if (!dataTable) return;\n",
              "\n",
              "          const docLinkHtml = 'Like what you see? Visit the ' +\n",
              "            '<a target=\"_blank\" href=https://colab.research.google.com/notebooks/data_table.ipynb>data table notebook</a>'\n",
              "            + ' to learn more about interactive tables.';\n",
              "          element.innerHTML = '';\n",
              "          dataTable['output_type'] = 'display_data';\n",
              "          await google.colab.output.renderOutput(dataTable, element);\n",
              "          const docLink = document.createElement('div');\n",
              "          docLink.innerHTML = docLinkHtml;\n",
              "          element.appendChild(docLink);\n",
              "        }\n",
              "      </script>\n",
              "    </div>\n",
              "  </div>\n",
              "  "
            ]
          },
          "metadata": {},
          "execution_count": 45
        }
      ],
      "source": [
        "# looking at the dataset again\n",
        "df.head()"
      ]
    },
    {
      "cell_type": "markdown",
      "id": "ddb3a715",
      "metadata": {
        "id": "ddb3a715"
      },
      "source": [
        "### 12. Store the target column (i.e.'HeartDisease') in the y variable and the rest of the columns in the X variable."
      ]
    },
    {
      "cell_type": "code",
      "execution_count": 46,
      "id": "9628128c",
      "metadata": {
        "id": "9628128c"
      },
      "outputs": [],
      "source": [
        "#storing the target column in the y variable and the rest of the columns in the x variable\n",
        "x=df.drop('HeartDisease',axis=1)\n",
        "y=df['HeartDisease']"
      ]
    },
    {
      "cell_type": "markdown",
      "id": "68db6b1e",
      "metadata": {
        "id": "68db6b1e"
      },
      "source": [
        "### 13. Split the dataset into two parts (i.e. 70% train and 30% test) and print the shape of the train and test data"
      ]
    },
    {
      "cell_type": "code",
      "execution_count": 49,
      "id": "0077d21b",
      "metadata": {
        "id": "0077d21b",
        "colab": {
          "base_uri": "https://localhost:8080/"
        },
        "outputId": "dcf93eed-06e2-4446-e598-5442c2f7e44f"
      },
      "outputs": [
        {
          "output_type": "stream",
          "name": "stdout",
          "text": [
            "Train dataset shape:  (241373, 17) (241373,)\n",
            "Test dataset shape:  (60344, 17) (60344,)\n"
          ]
        }
      ],
      "source": [
        "# dividing the dataset into traning and test sets\n",
        "x_train,x_test,y_train,y_test= train_test_split(x,y,test_size=0.2)\n",
        "\n",
        "print(\"Train dataset shape: \",x_train.shape,y_train.shape)\n",
        "print(\"Test dataset shape: \",x_test.shape,y_test.shape)"
      ]
    },
    {
      "cell_type": "markdown",
      "id": "495ea012",
      "metadata": {
        "id": "495ea012"
      },
      "source": [
        "### 14. Standardize the numerical columns using Standard Scalar approach for both train and test data."
      ]
    },
    {
      "cell_type": "code",
      "execution_count": 50,
      "id": "19357a7b",
      "metadata": {
        "id": "19357a7b"
      },
      "outputs": [],
      "source": [
        "## Standardizing onlu numarical colums.(not standardizing the dummy encoded data)\n",
        "ss = StandardScaler()\n",
        "\n",
        "x_train.iloc[:,:7]=ss.fit_transform(x_train.iloc[:,:7])\n",
        "x_test.iloc[:,:7]=ss.transform(x_test.iloc[:,:7])"
      ]
    },
    {
      "cell_type": "markdown",
      "id": "84d0e4a4",
      "metadata": {
        "id": "84d0e4a4"
      },
      "source": [
        "### 15. Write a function.\n",
        "- i) Which can take the model and data as inputs.\n",
        "- ii) Fits the model with the train data.\n",
        "- iii) Makes predictions on the test set.\n",
        "- iv) Returns the Accuracy Score."
      ]
    },
    {
      "cell_type": "code",
      "execution_count": null,
      "id": "e02c8c82",
      "metadata": {
        "id": "e02c8c82"
      },
      "outputs": [],
      "source": [
        "def fit_n_print(model,x_train,x_test,y_train,y_test): # take the model, and data as inputs\n",
        "    model.fit(x_train,y_train) # fits the model with the train data\n",
        "    pred= model.predict(x_test) #makes prediction on the test set\n",
        "    accuracy =accuracy_score(y_test,pred)\n",
        "    return accuracy #return all the metrics|"
      ]
    },
    {
      "cell_type": "markdown",
      "id": "e709b9d4",
      "metadata": {
        "id": "e709b9d4"
      },
      "source": [
        "### 16. Use the function and train a Logistic regression, KNN, Naive Bayes, Decision tree, Random Forest, Adaboost, GradientBoost, and Stacked Classifier models and make predictions on test data and evaluate the models, compare and write your conclusions and steps to be taken in future in order to improve the accuracy of the model."
      ]
    },
    {
      "cell_type": "code",
      "execution_count": null,
      "id": "a63e0e03",
      "metadata": {
        "id": "a63e0e03"
      },
      "outputs": [],
      "source": [
        "## intializing the models\n",
        "\n",
        "lr = LogisticRegression()\n",
        "nb = GaussianNB()\n",
        "knn = KNeighborsClassifier()\n",
        "dt = DecisionTreeClassifier()\n",
        "rf = RandomForestClassifier()\n",
        "adb = AdaBoostClassifier()\n",
        "gb =  GradientBoostingClassifier()\n",
        "\n",
        "\n",
        "estimators =[('rf',rf),('knn',knn),('gb',gb),('adb',adb)]\n",
        "sc=StackingClassifier(estimators=estimators,final_estimator=rf)"
      ]
    },
    {
      "cell_type": "code",
      "execution_count": null,
      "id": "d58230c0",
      "metadata": {
        "id": "d58230c0"
      },
      "outputs": [],
      "source": [
        "result = pd.DataFrame(columns=['Accuracy'])\n",
        "\n",
        "for model, model_name in zip([lr, nb ,knn ,dt ,rf ,adb ,gb ,sc ],\n",
        "                            ['Logistic Regression','Naive Bayes','KNN','Decision tree',\n",
        "                            'Random Forest','Ada Boost','Gradient Boost','Stacking']):\n",
        "    result.loc[model_name]=fit_n_print(model,x_train,x_test,y_train,y_test)"
      ]
    },
    {
      "cell_type": "code",
      "execution_count": null,
      "id": "4816512e",
      "metadata": {
        "id": "4816512e",
        "outputId": "371b6d8f-4966-4248-b85a-dd319a1f3d2b"
      },
      "outputs": [
        {
          "data": {
            "text/html": [
              "<div>\n",
              "<style scoped>\n",
              "    .dataframe tbody tr th:only-of-type {\n",
              "        vertical-align: middle;\n",
              "    }\n",
              "\n",
              "    .dataframe tbody tr th {\n",
              "        vertical-align: top;\n",
              "    }\n",
              "\n",
              "    .dataframe thead th {\n",
              "        text-align: right;\n",
              "    }\n",
              "</style>\n",
              "<table border=\"1\" class=\"dataframe\">\n",
              "  <thead>\n",
              "    <tr style=\"text-align: right;\">\n",
              "      <th></th>\n",
              "      <th>Accuracy</th>\n",
              "    </tr>\n",
              "  </thead>\n",
              "  <tbody>\n",
              "    <tr>\n",
              "      <th>Logistic Regression</th>\n",
              "      <td>0.908889</td>\n",
              "    </tr>\n",
              "    <tr>\n",
              "      <th>Naive Bayes</th>\n",
              "      <td>0.840200</td>\n",
              "    </tr>\n",
              "    <tr>\n",
              "      <th>KNN</th>\n",
              "      <td>0.901896</td>\n",
              "    </tr>\n",
              "    <tr>\n",
              "      <th>Decision tree</th>\n",
              "      <td>0.853291</td>\n",
              "    </tr>\n",
              "    <tr>\n",
              "      <th>Random Forest</th>\n",
              "      <td>0.898167</td>\n",
              "    </tr>\n",
              "    <tr>\n",
              "      <th>Ada Boost</th>\n",
              "      <td>0.910066</td>\n",
              "    </tr>\n",
              "    <tr>\n",
              "      <th>Gradient Boost</th>\n",
              "      <td>0.910364</td>\n",
              "    </tr>\n",
              "    <tr>\n",
              "      <th>Stacking</th>\n",
              "      <td>0.906287</td>\n",
              "    </tr>\n",
              "  </tbody>\n",
              "</table>\n",
              "</div>"
            ],
            "text/plain": [
              "                     Accuracy\n",
              "Logistic Regression  0.908889\n",
              "Naive Bayes          0.840200\n",
              "KNN                  0.901896\n",
              "Decision tree        0.853291\n",
              "Random Forest        0.898167\n",
              "Ada Boost            0.910066\n",
              "Gradient Boost       0.910364\n",
              "Stacking             0.906287"
            ]
          },
          "execution_count": 36,
          "metadata": {},
          "output_type": "execute_result"
        }
      ],
      "source": [
        "result"
      ]
    },
    {
      "cell_type": "markdown",
      "id": "K5f-IKPLV3bN",
      "metadata": {
        "id": "K5f-IKPLV3bN"
      },
      "source": [
        "### Conclusion"
      ]
    },
    {
      "cell_type": "markdown",
      "id": "596f2a47",
      "metadata": {
        "id": "596f2a47"
      },
      "source": [
        "\n",
        "\n",
        "\n",
        "- We see that the best perfomrming models are gradient boost,adaboost,logistic regression and knn with around 91% accuracy.\n",
        "- As the target class is highly imbalanced , accuracy is not a good metric for this dataset.\n",
        "- Future Work\n",
        " - We can use different evaluation metrics such as precision ,recall F1score,ROC_AUC_score,etc. for the models."
      ]
    },
    {
      "cell_type": "markdown",
      "id": "515596d0",
      "metadata": {
        "id": "515596d0"
      },
      "source": [
        "----\n",
        "## Happy Learning:)\n",
        "----"
      ]
    }
  ],
  "metadata": {
    "colab": {
      "collapsed_sections": [],
      "name": "Supervised Learning - Lab Problem Statement.ipynb",
      "provenance": []
    },
    "kernelspec": {
      "display_name": "Python 3 (ipykernel)",
      "language": "python",
      "name": "python3"
    },
    "language_info": {
      "codemirror_mode": {
        "name": "ipython",
        "version": 3
      },
      "file_extension": ".py",
      "mimetype": "text/x-python",
      "name": "python",
      "nbconvert_exporter": "python",
      "pygments_lexer": "ipython3",
      "version": "3.9.7"
    }
  },
  "nbformat": 4,
  "nbformat_minor": 5
}